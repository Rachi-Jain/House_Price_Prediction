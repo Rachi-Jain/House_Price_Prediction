{
 "cells": [
  {
   "cell_type": "code",
   "execution_count": 75,
   "metadata": {},
   "outputs": [],
   "source": [
    "#Importing library\n",
    "import numpy as np\n",
    "import pandas as pd\n",
    "import matplotlib.pyplot as plt \n",
    "import matplotlib\n",
    "import sklearn\n",
    "from sklearn.metrics import mean_squared_error,classification_report,confusion_matrix,accuracy_score\n",
    "%matplotlib inline\n",
    " "
   ]
  },
  {
   "cell_type": "code",
   "execution_count": 1,
   "metadata": {},
   "outputs": [
    {
     "ename": "NameError",
     "evalue": "name 'pd' is not defined",
     "output_type": "error",
     "traceback": [
      "\u001b[1;31m---------------------------------------------------------------------------\u001b[0m",
      "\u001b[1;31mNameError\u001b[0m                                 Traceback (most recent call last)",
      "\u001b[1;32m<ipython-input-1-f33918ee10c4>\u001b[0m in \u001b[0;36m<module>\u001b[1;34m\u001b[0m\n\u001b[0;32m      1\u001b[0m \u001b[1;31m#Reading the data\u001b[0m\u001b[1;33m\u001b[0m\u001b[1;33m\u001b[0m\u001b[1;33m\u001b[0m\u001b[0m\n\u001b[1;32m----> 2\u001b[1;33m \u001b[0mhousedata\u001b[0m\u001b[1;33m=\u001b[0m\u001b[0mpd\u001b[0m\u001b[1;33m.\u001b[0m\u001b[0mread_csv\u001b[0m\u001b[1;33m(\u001b[0m\u001b[1;34m\"house_prize.csv\"\u001b[0m\u001b[1;33m)\u001b[0m\u001b[1;33m\u001b[0m\u001b[1;33m\u001b[0m\u001b[0m\n\u001b[0m\u001b[0;32m      3\u001b[0m \u001b[0mhousedata\u001b[0m\u001b[1;33m.\u001b[0m\u001b[0mhead\u001b[0m\u001b[1;33m(\u001b[0m\u001b[1;33m)\u001b[0m\u001b[1;33m\u001b[0m\u001b[1;33m\u001b[0m\u001b[0m\n\u001b[0;32m      4\u001b[0m \u001b[0mprint\u001b[0m\u001b[1;33m(\u001b[0m\u001b[0mhousedata\u001b[0m\u001b[1;33m)\u001b[0m\u001b[1;33m\u001b[0m\u001b[1;33m\u001b[0m\u001b[0m\n",
      "\u001b[1;31mNameError\u001b[0m: name 'pd' is not defined"
     ]
    }
   ],
   "source": [
    "#Reading the data\n",
    "housedata=pd.read_csv(\"house_prize.csv\")\n",
    "housedata.head()\n",
    "print(housedata)"
   ]
  },
  {
   "cell_type": "code",
   "execution_count": 77,
   "metadata": {},
   "outputs": [
    {
     "name": "stdout",
     "output_type": "stream",
     "text": [
      "   bedrooms  bathrooms  sqft_living  sqft_lot  floors  waterfront  view  \\\n",
      "0         3          2         1340      7912       2           0     0   \n",
      "1         5          2         3650      9050       2           0     4   \n",
      "2         3          2         1930     11947       1           0     0   \n",
      "3         3          3         2000      8030       1           0     0   \n",
      "4         4          3         1940     10500       1           0     0   \n",
      "\n",
      "   condition  sqft_above  sqft_basement  yr_built  \n",
      "0          3        1340              0      1955  \n",
      "1          5        3370            280      1921  \n",
      "2          4        1930              0      1966  \n",
      "3          4        1000           1000      1963  \n",
      "4          4        1140            800      1976  \n",
      "0     313000\n",
      "1    2384000\n",
      "2     342000\n",
      "3     420000\n",
      "4     550000\n",
      "Name: price, dtype: int64\n"
     ]
    }
   ],
   "source": [
    "\n",
    "x=housedata.drop(\"price\",axis=1)\n",
    "print(x.head())\n",
    "y=housedata[\"price\"]\n",
    "print(y.head())"
   ]
  },
  {
   "cell_type": "code",
   "execution_count": 78,
   "metadata": {},
   "outputs": [],
   "source": [
    "#Choosing the model and hyperperameter\n",
    "from sklearn.tree import DecisionTreeRegressor\n",
    "clf=DecisionTreeRegressor()\n",
    "#clf.get_params()\n"
   ]
  },
  {
   "cell_type": "code",
   "execution_count": 85,
   "metadata": {},
   "outputs": [
    {
     "data": {
      "text/plain": [
       "DecisionTreeRegressor(ccp_alpha=0.0, criterion='mse', max_depth=None,\n",
       "                      max_features=None, max_leaf_nodes=None,\n",
       "                      min_impurity_decrease=0.0, min_impurity_split=None,\n",
       "                      min_samples_leaf=1, min_samples_split=2,\n",
       "                      min_weight_fraction_leaf=0.0, presort='deprecated',\n",
       "                      random_state=None, splitter='best')"
      ]
     },
     "execution_count": 85,
     "metadata": {},
     "output_type": "execute_result"
    }
   ],
   "source": [
    "#Fit the model to datafrom\n",
    "from sklearn.model_selection import train_test_split\n",
    "x_train,x_test,y_train,y_test=train_test_split(x,y,test_size=0.5)\n",
    "clf.fit(x_train,y_train)"
   ]
  },
  {
   "cell_type": "code",
   "execution_count": 86,
   "metadata": {},
   "outputs": [
    {
     "name": "stdout",
     "output_type": "stream",
     "text": [
      "    bedrooms  bathrooms  sqft_living  sqft_lot  floors  waterfront  view  \\\n",
      "13         3          1         1090      6435       1           0     0   \n",
      "15         3          2         1200      9720       1           0     0   \n",
      "11         4          4         2920      4000       3           0     0   \n",
      "18         3          2         1370      5858       1           0     0   \n",
      "1          5          2         3650      9050       2           0     4   \n",
      "8          3          3         2430     88426       1           0     0   \n",
      "5          2          1          880      6380       1           0     0   \n",
      "3          3          3         2000      8030       1           0     0   \n",
      "0          3          2         1340      7912       2           0     0   \n",
      "9          4          2         1520      6200       3           0     0   \n",
      "\n",
      "    condition  sqft_above  sqft_basement  yr_built  \n",
      "13          4        1090              0      1955  \n",
      "15          4        1200              0      1965  \n",
      "11          5        1910           1010      1909  \n",
      "18          3        1370              0      1987  \n",
      "1           5        3370            280      1921  \n",
      "8           4        1570            860      1985  \n",
      "5           3         880              0      1938  \n",
      "3           4        1000           1000      1963  \n",
      "0           3        1340              0      1955  \n",
      "9           3        1520              0      1945   [ 419000.  342000. 1200000.  335000.  550000.  588500.  419000.  550000.\n",
      "  463000. 1200000.]\n"
     ]
    }
   ],
   "source": [
    "#Make a prediction\n",
    "y_preds=clf.predict(x_test)\n",
    "print(x_test,y_preds )"
   ]
  },
  {
   "cell_type": "code",
   "execution_count": 87,
   "metadata": {},
   "outputs": [
    {
     "data": {
      "text/plain": [
       "1.0"
      ]
     },
     "execution_count": 87,
     "metadata": {},
     "output_type": "execute_result"
    }
   ],
   "source": [
    "#Evaluting the model on the training and testing data \n",
    "clf.score(x_train,y_train)\n"
   ]
  },
  {
   "cell_type": "code",
   "execution_count": 88,
   "metadata": {},
   "outputs": [
    {
     "data": {
      "text/plain": [
       "0.09114122577601025"
      ]
     },
     "execution_count": 88,
     "metadata": {},
     "output_type": "execute_result"
    }
   ],
   "source": [
    "clf.score(x_test,y_test)"
   ]
  },
  {
   "cell_type": "code",
   "execution_count": 89,
   "metadata": {
    "scrolled": true
   },
   "outputs": [
    {
     "data": {
      "text/plain": [
       "379884595250.0"
      ]
     },
     "execution_count": 89,
     "metadata": {},
     "output_type": "execute_result"
    }
   ],
   "source": [
    "mean_squared_error(y_preds,y_test)"
   ]
  },
  {
   "cell_type": "code",
   "execution_count": 90,
   "metadata": {},
   "outputs": [
    {
     "name": "stdout",
     "output_type": "stream",
     "text": [
      "13     365000\n",
      "15     242500\n",
      "11    1400000\n",
      "18     257950\n",
      "1     2384000\n",
      "8      452500\n",
      "5      490000\n",
      "3      420000\n",
      "0      313000\n",
      "9      640000\n",
      "Name: price, dtype: int64 [ 419000.  342000. 1200000.  335000.  550000.  588500.  419000.  550000.\n",
      "  463000. 1200000.]\n"
     ]
    }
   ],
   "source": [
    "print(y_test,y_preds)"
   ]
  },
  {
   "cell_type": "code",
   "execution_count": null,
   "metadata": {},
   "outputs": [],
   "source": []
  },
  {
   "cell_type": "code",
   "execution_count": null,
   "metadata": {},
   "outputs": [],
   "source": []
  }
 ],
 "metadata": {
  "kernelspec": {
   "display_name": "Python 3",
   "language": "python",
   "name": "python3"
  },
  "language_info": {
   "codemirror_mode": {
    "name": "ipython",
    "version": 3
   },
   "file_extension": ".py",
   "mimetype": "text/x-python",
   "name": "python",
   "nbconvert_exporter": "python",
   "pygments_lexer": "ipython3",
   "version": "3.7.6"
  }
 },
 "nbformat": 4,
 "nbformat_minor": 4
}
